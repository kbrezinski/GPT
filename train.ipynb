{
 "cells": [
  {
   "cell_type": "code",
   "execution_count": 1,
   "metadata": {},
   "outputs": [],
   "source": [
    "%load_ext autoreload\n",
    "%autoreload 2"
   ]
  },
  {
   "cell_type": "code",
   "execution_count": 51,
   "metadata": {},
   "outputs": [],
   "source": [
    "# %% imports\n",
    "import os\n",
    "import torch\n",
    "\n",
    "from utils.constants import *\n",
    "from train import Tokenizer, BiGramTrainer\n",
    "from definitions.models import BiGram"
   ]
  },
  {
   "cell_type": "code",
   "execution_count": 53,
   "metadata": {},
   "outputs": [],
   "source": [
    "# %%\n",
    "device = 'cuda:0' if torch.cuda.is_available() else 'cpu'\n",
    "tokenizer = Tokenizer()\n",
    "train_data, val_data = tokenizer.train('data/raw-1.txt')\n",
    "model = BiGram(tokenizer.vocab_size, embed_dim, block_size, num_heads).to(device)\n",
    "optimizer = torch.optim.AdamW(model.parameters(), lr=lr)\n",
    "trainer = BiGramTrainer(model, optimizer, torch.nn.CrossEntropyLoss(), device)"
   ]
  },
  {
   "cell_type": "code",
   "execution_count": 54,
   "metadata": {},
   "outputs": [
    {
     "name": "stdout",
     "output_type": "stream",
     "text": [
      "Epoch:    0, Loss: 4.1899\n",
      "Epoch:  250, Loss: 2.9776\n",
      "Epoch:  500, Loss: 2.8182\n",
      "Epoch:  750, Loss: 2.7207\n",
      "Epoch: 1000, Loss: 3.3427\n",
      "Epoch: 1250, Loss: 3.2939\n",
      "Epoch: 1500, Loss: 3.2557\n",
      "Epoch: 1750, Loss: 3.2569\n",
      "Epoch: 2000, Loss: 3.2547\n",
      "Epoch: 2250, Loss: 3.2655\n",
      "Epoch: 2500, Loss: 3.2795\n",
      "Epoch: 2750, Loss: 3.2238\n",
      "Epoch: 3000, Loss: 3.2263\n",
      "Epoch: 3250, Loss: 3.2223\n",
      "Epoch: 3500, Loss: 3.2365\n",
      "Epoch: 3750, Loss: 3.2268\n",
      "Epoch: 4000, Loss: 3.2062\n",
      "Epoch: 4250, Loss: 3.2159\n",
      "Epoch: 4500, Loss: 3.2254\n",
      "Epoch: 4750, Loss: 3.1966\n"
     ]
    }
   ],
   "source": [
    "trainer.train(train_data, val_data)"
   ]
  },
  {
   "cell_type": "code",
   "execution_count": null,
   "metadata": {},
   "outputs": [],
   "source": [
    "idx = torch.tensor(tokenizer.encoder('The quick brown fox jumps over the lazy dog'), dtype=torch.long).unsqueeze(0)\n",
    "tokenizer.decoder(trainer.generate(idx=idx, max_new_tokens=1000)[0].tolist())"
   ]
  },
  {
   "cell_type": "code",
   "execution_count": null,
   "metadata": {},
   "outputs": [],
   "source": [
    "print(tokenizer.decoder(trainer.generate(idx=idx, max_new_tokens=1000)[0].tolist()))"
   ]
  },
  {
   "cell_type": "code",
   "execution_count": null,
   "metadata": {},
   "outputs": [],
   "source": []
  }
 ],
 "metadata": {
  "kernelspec": {
   "display_name": "gpt",
   "language": "python",
   "name": "python3"
  },
  "language_info": {
   "codemirror_mode": {
    "name": "ipython",
    "version": 3
   },
   "file_extension": ".py",
   "mimetype": "text/x-python",
   "name": "python",
   "nbconvert_exporter": "python",
   "pygments_lexer": "ipython3",
   "version": "3.9.16"
  },
  "orig_nbformat": 4,
  "vscode": {
   "interpreter": {
    "hash": "76aa330ce39202b1bc6cbe0c42fe5c1b4ed8f92d979013b71d620e154ab21eed"
   }
  }
 },
 "nbformat": 4,
 "nbformat_minor": 2
}
