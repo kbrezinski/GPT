{
 "cells": [
  {
   "cell_type": "code",
   "execution_count": 54,
   "metadata": {},
   "outputs": [
    {
     "name": "stdout",
     "output_type": "stream",
     "text": [
      "The autoreload extension is already loaded. To reload it, use:\n",
      "  %reload_ext autoreload\n"
     ]
    }
   ],
   "source": [
    "%load_ext autoreload\n",
    "%autoreload 2"
   ]
  },
  {
   "cell_type": "code",
   "execution_count": 57,
   "metadata": {},
   "outputs": [],
   "source": [
    "# %% imports\n",
    "import os\n",
    "import torch\n",
    "\n",
    "from definitions.models import Bigram\n",
    "from utils.config import *\n",
    "from train import Tokenizer, BiGramTrainer"
   ]
  },
  {
   "cell_type": "code",
   "execution_count": 60,
   "metadata": {},
   "outputs": [
    {
     "name": "stdout",
     "output_type": "stream",
     "text": [
      "Epoch:    0, Loss: 4.6227\n",
      "Epoch:  250, Loss: 4.3322\n",
      "Epoch:  500, Loss: 4.0869\n",
      "Epoch:  750, Loss: 3.8632\n",
      "Epoch: 1000, Loss: 3.6634\n",
      "Epoch: 1250, Loss: 3.4914\n",
      "Epoch: 1500, Loss: 3.3410\n",
      "Epoch: 1750, Loss: 3.2133\n",
      "Epoch: 2000, Loss: 3.1053\n",
      "Epoch: 2250, Loss: 3.0079\n",
      "Epoch: 2500, Loss: 2.9248\n",
      "Epoch: 2750, Loss: 2.8569\n"
     ]
    }
   ],
   "source": [
    "# %%\n",
    "device = 'cuda' if torch.cuda.is_available() else 'cpu'\n",
    "tokenizer = Tokenizer()\n",
    "train_data, val_data = tokenizer.train('data/raw-1.txt')\n",
    "\n",
    "model = Bigram(tokenizer.vocab_size).to(device)\n",
    "optimizer = torch.optim.AdamW(model.parameters(), lr=1e-3)\n",
    "trainer = BiGramTrainer(model, optimizer, torch.nn.CrossEntropyLoss(), device)\n",
    "\n"
   ]
  },
  {
   "cell_type": "code",
   "execution_count": 73,
   "metadata": {},
   "outputs": [
    {
     "name": "stdout",
     "output_type": "stream",
     "text": [
      "Epoch:    0, Loss: 2.5334\n",
      "Epoch:  250, Loss: 2.5232\n",
      "Epoch:  500, Loss: 2.5222\n",
      "Epoch:  750, Loss: 2.5181\n",
      "Epoch: 1000, Loss: 2.5058\n",
      "Epoch: 1250, Loss: 2.4980\n",
      "Epoch: 1500, Loss: 2.4942\n",
      "Epoch: 1750, Loss: 2.4996\n",
      "Epoch: 2000, Loss: 2.5012\n",
      "Epoch: 2250, Loss: 2.5095\n",
      "Epoch: 2500, Loss: 2.4982\n",
      "Epoch: 2750, Loss: 2.4853\n"
     ]
    }
   ],
   "source": [
    "trainer.train(train_data, val_data)"
   ]
  },
  {
   "cell_type": "code",
   "execution_count": 81,
   "metadata": {},
   "outputs": [
    {
     "name": "stdout",
     "output_type": "stream",
     "text": [
      "The quick brown fox jumps over the lazy dogerthel heaverss her he thryo ouenou: ndean bm ware sere, m;\n",
      "G wim bs ryof n-howesheitheencashed. whivemishe t this h ucoriofo gomeiry borng, we.\n",
      "An grmaNDWat qFI ulow\n",
      "IO:\n",
      "\n",
      "LEclitot tindourn ids X-ouREXJwwaisothof LAy wquroTI sp\n",
      "The wichelonth fainith, o bor's, tig spr pind juspot llaND Ifr f omalantentik by Brstlonenoushe wo es ad d che llslis hou GHENCEes as:\n",
      "TETe w santatheavinganos, trjNERThxRDit mnt keadl? dind?berefa rbir RDWhed fer owhet d: in!\n",
      "MEN.'d\n",
      "\n",
      "FONENang:\n",
      "Fowarrs m O:\n",
      "?\n",
      "AR:\n",
      "Th?\n",
      "\n",
      "n it loar omernondsosesheater hequly oundal hano girthe,I.\n",
      "\n",
      "My n;\n",
      "Carewit d mes tr, t, isegbuile moureoies ore o hing,\n",
      "\n",
      "RO:\n",
      "A frdicey e dadlpothefrrey g O chad aimeat comn tunofoad aicakit, ame\n",
      "ED u w winerdys md sty t!\n",
      "Tomatorr l YORGoindepe Y o me-gheneingnle ghas ithe H: y s;\n",
      "antt ucy youtice g'd avellathitis bllives?\n",
      "\n",
      "\n",
      "\n",
      "Thes a I m, ro, me y mp.\n",
      "'s atyowou alllldumenase fin Oun, ty\n",
      "my, nd m ty, maresheemode at t su3ZSThoo h. on s\n",
      "men.CUSendlomakelome roan:\n",
      "D st S:\n",
      "Her n ofeloforys hougheren ok t\n"
     ]
    }
   ],
   "source": [
    "idx = torch.tensor(tokenizer.encoder('The quick brown fox jumps over the lazy dog'), dtype=torch.long).unsqueeze(0)\n",
    "print(tokenizer.decoder(trainer.generate(idx=idx, max_new_tokens=1000)[0].tolist()))"
   ]
  },
  {
   "cell_type": "code",
   "execution_count": null,
   "metadata": {},
   "outputs": [],
   "source": []
  }
 ],
 "metadata": {
  "kernelspec": {
   "display_name": "gpt",
   "language": "python",
   "name": "python3"
  },
  "language_info": {
   "codemirror_mode": {
    "name": "ipython",
    "version": 3
   },
   "file_extension": ".py",
   "mimetype": "text/x-python",
   "name": "python",
   "nbconvert_exporter": "python",
   "pygments_lexer": "ipython3",
   "version": "3.9.16"
  },
  "orig_nbformat": 4,
  "vscode": {
   "interpreter": {
    "hash": "76aa330ce39202b1bc6cbe0c42fe5c1b4ed8f92d979013b71d620e154ab21eed"
   }
  }
 },
 "nbformat": 4,
 "nbformat_minor": 2
}
